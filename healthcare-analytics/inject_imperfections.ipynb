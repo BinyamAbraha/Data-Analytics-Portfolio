{
 "cells": [
  {
   "cell_type": "code",
   "execution_count": 1,
   "id": "c32a6ab4-57c4-49b6-8099-a97c85a6ce8b",
   "metadata": {},
   "outputs": [
    {
     "data": {
      "text/plain": [
       "(10000,\n",
       " ['Patient_ID',\n",
       "  'Age',\n",
       "  'Gender',\n",
       "  'Primary_Language',\n",
       "  'Diagnosis_Code',\n",
       "  'Admission_Type',\n",
       "  'Length_of_Stay',\n",
       "  'Readmitted',\n",
       "  'Cost_of_Stay',\n",
       "  'Hospital_Region',\n",
       "  'Insurance_Type',\n",
       "  'Comorbidities_Count',\n",
       "  'Admission_Date'])"
      ]
     },
     "execution_count": 1,
     "metadata": {},
     "output_type": "execute_result"
    }
   ],
   "source": [
    "import pandas as pd\n",
    "import numpy as np\n",
    "\n",
    "# Paths (run this notebook from /healthcare-analytics/notebooks)\n",
    "CLEAN_PATH = \"../data/hospital_readmissions.csv\"\n",
    "DIRTY_PATH = \"../data/hospital_readmissions_dirty.csv\"\n",
    "\n",
    "df = pd.read_csv(CLEAN_PATH)\n",
    "orig_len = len(df)\n",
    "orig_cols = df.columns.tolist()\n",
    "\n",
    "orig_len, orig_cols\n"
   ]
  },
  {
   "cell_type": "code",
   "execution_count": 2,
   "id": "ca2cf20c-ad8b-4ed2-8354-a2d8e691faa1",
   "metadata": {},
   "outputs": [
    {
     "name": "stdout",
     "output_type": "stream",
     "text": [
      "Final rows: 10050\n"
     ]
    }
   ],
   "source": [
    "rng = np.random.default_rng(7)\n",
    "dirty = df.copy()\n",
    "\n",
    "# 1. Missing values \n",
    "for col, p in {\"Cost_of_Stay\":0.03, \"Insurance_Type\":0.04,\n",
    "               \"Diagnosis_Code\":0.02, \"Primary_Language\":0.015,\n",
    "               \"Admission_Date\":0.01}.items():\n",
    "    mask = rng.random(len(dirty)) < p\n",
    "    dirty.loc[mask, col] = np.nan\n",
    "\n",
    "# 2. Inconsistent casing / whitespace\n",
    "def rand_idx(frac): return dirty.sample(frac=frac, random_state=rng.integers(0,1e6)).index\n",
    "# Regions\n",
    "dirty.loc[rand_idx(0.12), \"Hospital_Region\"] = dirty[\"Hospital_Region\"].str.upper()\n",
    "dirty.loc[rand_idx(0.08), \"Hospital_Region\"] = dirty[\"Hospital_Region\"].str.lower()\n",
    "dirty.loc[rand_idx(0.05), \"Hospital_Region\"] += \"  \"   # trailing spaces\n",
    "# Insurance\n",
    "dirty.loc[rand_idx(0.06), \"Insurance_Type\"] = dirty[\"Insurance_Type\"].str.lower()\n",
    "dirty.loc[rand_idx(0.03), \"Insurance_Type\"] = \"  \" + dirty[\"Insurance_Type\"].astype(str)\n",
    "# Language\n",
    "dirty.loc[rand_idx(0.05), \"Primary_Language\"] = dirty[\"Primary_Language\"].str.lower()\n",
    "dirty.loc[rand_idx(0.03), \"Primary_Language\"] = dirty[\"Primary_Language\"].astype(str) + \" \"\n",
    "\n",
    "# 3. Minor typos \n",
    "typo_map = {\"Medicare\":\"Meddicare\", \"Private\":\"Privatte\", \"South\":\"southh\"}\n",
    "idx = rand_idx(0.01)\n",
    "dirty.loc[idx, \"Insurance_Type\"] = dirty.loc[idx, \"Insurance_Type\"].replace(typo_map)\n",
    "\n",
    "# 4. Outliers + invalid numeric values\n",
    "med_cost = dirty[\"Cost_of_Stay\"].median()\n",
    "dirty.loc[rand_idx(0.002), \"Cost_of_Stay\"] = med_cost * 25\n",
    "dirty.loc[rand_idx(0.003), \"Length_of_Stay\"] = 0.0\n",
    "dirty.loc[rand_idx(0.002), \"Length_of_Stay\"] = 100.0\n",
    "dirty.loc[rand_idx(0.001), \"Age\"] = rng.choice([-5, 150], size=10)\n",
    "\n",
    "# 5. Mixed date formats\n",
    "ad = pd.to_datetime(dirty[\"Admission_Date\"], errors=\"coerce\")\n",
    "fmt = rng.random(len(dirty))\n",
    "dirty.loc[fmt < 0.35, \"Admission_Date\"] = ad.dt.strftime(\"%m/%d/%Y\")\n",
    "dirty.loc[(fmt>=0.35)&(fmt<0.8), \"Admission_Date\"] = ad.dt.strftime(\"%Y-%m-%d\")\n",
    "dirty.loc[(fmt>=0.8)&(fmt<0.98), \"Admission_Date\"] = ad.dt.strftime(\"%d/%m/%Y\")\n",
    "dirty.loc[fmt>=0.98, \"Admission_Date\"] = \"2024/13/40\"  # impossible date\n",
    "\n",
    "# 6. Duplicate a small fraction of rows \n",
    "dupes = dirty.sample(frac=0.005, random_state=rng.integers(0,1e6))\n",
    "dirty = pd.concat([dirty, dupes], ignore_index=True)\n",
    "\n",
    "print(\"Final rows:\", len(dirty))\n"
   ]
  },
  {
   "cell_type": "code",
   "execution_count": 3,
   "id": "859396f0-8b7f-4c31-917a-c0b3feec9cca",
   "metadata": {},
   "outputs": [
    {
     "name": "stdout",
     "output_type": "stream",
     "text": [
      "=== Imperfection Injection Summary ===\n",
      "Missing values per column:\n",
      "Patient_ID               0\n",
      "Age                      0\n",
      "Gender                   0\n",
      "Primary_Language       148\n",
      "Diagnosis_Code         195\n",
      "Admission_Type           0\n",
      "Length_of_Stay           0\n",
      "Readmitted               0\n",
      "Cost_of_Stay           295\n",
      "Hospital_Region          0\n",
      "Insurance_Type         364\n",
      "Comorbidities_Count      0\n",
      "Admission_Date         105\n",
      "dtype: int64\n",
      "\n",
      "Duplicate rows: 50\n",
      "\n",
      "Invalid ages: 10\n",
      "Extreme LOS: 50\n",
      "Extreme costs: 0\n"
     ]
    }
   ],
   "source": [
    "print(\"=== Imperfection Injection Summary ===\")\n",
    "print(\"Missing values per column:\")\n",
    "print(dirty.isna().sum())\n",
    "print(\"\\nDuplicate rows:\", dirty.duplicated().sum())\n",
    "print(\"\\nInvalid ages:\",\n",
    "      ((dirty[\"Age\"]<0) | (dirty[\"Age\"]>120)).sum())\n",
    "print(\"Extreme LOS:\",\n",
    "      ((dirty[\"Length_of_Stay\"]<=0) | (dirty[\"Length_of_Stay\"]>60)).sum())\n",
    "print(\"Extreme costs:\",\n",
    "      (dirty[\"Cost_of_Stay\"] > df[\"Cost_of_Stay\"].quantile(0.99)*5).sum())\n"
   ]
  },
  {
   "cell_type": "code",
   "execution_count": 4,
   "id": "eddb8977-166d-405f-9337-12712a49b22c",
   "metadata": {},
   "outputs": [
    {
     "name": "stdout",
     "output_type": "stream",
     "text": [
      "Saved dirty dataset to ../data/hospital_readmissions_dirty.csv\n"
     ]
    }
   ],
   "source": [
    "dirty.to_csv(DIRTY_PATH, index=False)\n",
    "print(f\"Saved dirty dataset to {DIRTY_PATH}\")\n"
   ]
  },
  {
   "cell_type": "code",
   "execution_count": null,
   "id": "988eefd0-7230-4edf-bab2-7d29132c0bd4",
   "metadata": {},
   "outputs": [],
   "source": []
  }
 ],
 "metadata": {
  "kernelspec": {
   "display_name": "Python 3.14 (portfolio)",
   "language": "python",
   "name": "portfolio-py314"
  },
  "language_info": {
   "codemirror_mode": {
    "name": "ipython",
    "version": 3
   },
   "file_extension": ".py",
   "mimetype": "text/x-python",
   "name": "python",
   "nbconvert_exporter": "python",
   "pygments_lexer": "ipython3",
   "version": "3.14.0"
  }
 },
 "nbformat": 4,
 "nbformat_minor": 5
}
